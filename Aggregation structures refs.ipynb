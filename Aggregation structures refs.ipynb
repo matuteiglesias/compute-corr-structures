{
 "cells": [
  {
   "cell_type": "markdown",
   "metadata": {},
   "source": [
    "### Detailed structure (disaggregation) information."
   ]
  },
  {
   "cell_type": "code",
   "execution_count": 6,
   "metadata": {
    "collapsed": true
   },
   "outputs": [],
   "source": [
    "import pandas as pd\n",
    "import unidecode"
   ]
  },
  {
   "cell_type": "markdown",
   "metadata": {},
   "source": [
    "### Brazil occupations (CBO)"
   ]
  },
  {
   "cell_type": "code",
   "execution_count": 7,
   "metadata": {
    "collapsed": false
   },
   "outputs": [],
   "source": [
    "#Load finest aggregation\n",
    "cbo_ocu = pd.read_csv('data/disagg_struct_refs/sources/CBO2002 - Ocupacao.csv', delimiter = ';')\n",
    "cbo_ocu = cbo_ocu.rename({'CODIGO': 'CBO ID O', 'TITULO': 'CBO label O'}, axis = 1).astype(str)\n",
    "cbo_ocu['CBO ID O'] = cbo_ocu['CBO ID O'].str.zfill(6)\n",
    "\n",
    "#Add codes of aggregated levels\n",
    "cbo_ocu['CBO ID F'] = cbo_ocu['CBO ID O'].str[:-2]\n",
    "cbo_ocu['CBO ID SG'] = cbo_ocu['CBO ID O'].str[:-3]\n",
    "cbo_ocu['CBO ID SGP'] = cbo_ocu['CBO ID O'].str[:-4]\n",
    "cbo_ocu['CBO ID GG'] = cbo_ocu['CBO ID O'].str[:-5]\n",
    "\n",
    "#Load coarser aggregations\n",
    "cbo_gg = pd.read_csv('data/disagg_struct_refs/sources/CBO2002 - Grande Grupo.csv', delimiter = ';').rename({'CODIGO': 'CBO ID GG', 'TITULO': 'CBO label GG'}, axis = 1).astype(str)\n",
    "cbo_sgp = pd.read_csv('data/disagg_struct_refs/sources/CBO2002 - SubGrupo Principal.csv', delimiter = ';').rename({'CODIGO': 'CBO ID SGP', 'TITULO': 'CBO label SGP'}, axis = 1).astype(str)\n",
    "cbo_sgp['CBO ID SGP'] = cbo_sgp['CBO ID SGP'].str.zfill(2)\n",
    "cbo_sg = pd.read_csv('data/disagg_struct_refs/sources/CBO2002 - SubGrupo.csv', delimiter = ';').rename({'CODIGO': 'CBO ID SG', 'TITULO': 'CBO label SG'}, axis = 1).astype(str)\n",
    "cbo_sg['CBO ID SG'] = cbo_sg['CBO ID SG'].str.zfill(3)\n",
    "cbo_fam = pd.read_csv('data/disagg_struct_refs/sources/CBO2002 - Familia.csv', delimiter = ';').rename({'CODIGO': 'CBO ID F', 'TITULO': 'CBO label F'}, axis = 1).astype(str)\n",
    "cbo_fam['CBO ID F'] = cbo_fam['CBO ID F'].str.zfill(4)\n",
    "\n",
    "#Merge\n",
    "\n",
    "CBO = cbo_ocu.merge(cbo_fam).merge(cbo_sg).merge(cbo_sgp).merge(cbo_gg)\n",
    "\n",
    "# #Fix case\n",
    "# for col in CBO.columns:\n",
    "#     if 'label' in col:\n",
    "#         CBO[col] = CBO[col].str.capitalize()\n",
    "\n",
    "CBO['CBO ID 0'] = '0'; CBO['CBO label 0'] = 'All occupations'\n",
    "    \n",
    "for col in [col for col in CBO.columns if 'label' in col]:\n",
    "    CBO[col] = [unidecode.unidecode(acc) for acc in CBO[col].str.decode('latin-1')]\n",
    "\n",
    "        \n",
    "# Save\n",
    "CBO.to_csv('data/disagg_struct_refs/formatted/CBO_full.csv', index = False)\n",
    "\n",
    "#Usage\n",
    "CBO_agg_ref = CBO[['CBO ID O', 'CBO ID F', 'CBO ID SG', 'CBO ID SGP', 'CBO ID GG']]\n",
    "CBO_agg_labels = CBO[['CBO ID O', 'CBO label O', 'CBO ID F', 'CBO label F', 'CBO ID SG', 'CBO label SG',\n",
    "                      'CBO ID SGP', 'CBO label SGP', 'CBO ID GG', 'CBO label GG']]"
   ]
  },
  {
   "cell_type": "markdown",
   "metadata": {},
   "source": [
    "### Chile industries (CIIU). Eq SITC"
   ]
  },
  {
   "cell_type": "code",
   "execution_count": 19,
   "metadata": {
    "collapsed": false
   },
   "outputs": [],
   "source": [
    "CIIU = pd.read_csv('data/disagg_struct_refs/sources/ciiu4.csv')\n",
    "CIIU.columns = ['CIIU ID 2', 'CIIU ID 3', 'CIIU ID 4', 'CIIU label 4']\n",
    "ciiu4 = CIIU.loc[CIIU['CIIU ID 4'].notnull()][['CIIU ID 4', 'CIIU label 4']]\n",
    "ciiu4['CIIU ID 4'] = ciiu4['CIIU ID 4'].astype(int)\n",
    "ciiu4['CIIU ID 2'] = ciiu4['CIIU ID 4'].astype(str).str[:-2].astype(int)\n",
    "\n",
    "CIIU = ciiu4.merge(pd.read_csv('data/disagg_struct_refs/sources/ciiu0.csv'))\n",
    "\n",
    "CIIU['CIIU ID 1'] = [ord(l)-64 for l in CIIU['CIIU ID 1'].values]\n",
    "CIIU['CIIU ID 0'] = '0'; CIIU['CIIU label 0'] = 'All industries'\n",
    "\n",
    "for col in [col for col in CIIU.columns if 'label' in col]:\n",
    "    CIIU[col] = [unidecode.unidecode(acc).capitalize() for acc in CIIU[col].str.decode('utf8')]\n",
    "\n",
    "CIIU[['CIIU ID 4', 'CIIU label 4','CIIU ID 2','CIIU ID 1', 'CIIU ID 0']].to_csv('data/disagg_struct_refs/formatted/CIIU_full.csv', index = False)"
   ]
  },
  {
   "cell_type": "markdown",
   "metadata": {},
   "source": [
    "### Brazil industries (CIIU). Eq SITC"
   ]
  },
  {
   "cell_type": "code",
   "execution_count": 20,
   "metadata": {
    "collapsed": true
   },
   "outputs": [],
   "source": [
    "import numpy as np\n",
    "\n",
    "#Industries\n",
    "CNAE = pd.read_csv('data/disagg_struct_refs/sources/CNAE20_EstruturaDetalhada.csv', header = None)\n",
    "CNAE.columns = ['Seção', 'Divisão' , 'Grupo', 'Classe', 'Denominação']\n",
    "CNAE.columns = ['CNAE ID S', 'CNAE ID D' , 'CNAE ID G', 'CNAE ID C', 'CNAE label']\n",
    "\n",
    "#remove spurious entries\n",
    "\n",
    "# for string in CNAE.columns:\n",
    "#     CNAE.replace({string: np.NaN}, inplace=True)\n",
    "CNAE.replace({'Seção': np.NaN}, inplace=True)\n",
    "CNAE.replace({'Divisão': np.NaN}, inplace=True)\n",
    "CNAE.replace({'Grupo': np.NaN}, inplace=True)\n",
    "CNAE.replace({'Classe': np.NaN}, inplace=True)\n",
    "CNAE.replace({'Denominação': np.NaN}, inplace=True)\n",
    "CNAE.replace({'(continua)': np.NaN}, inplace=True)\n",
    "CNAE.replace({'2.2 - Estrutura detalhada da CNAE 2.0: Códigos e denominações': np.NaN}, inplace=True)\n",
    "\n",
    "# Fix format, by removing '.' and '-' symbols\n",
    "CNAE['CNAE ID G'] = CNAE['CNAE ID G'].str.replace('.', '')\n",
    "CNAE['CNAE ID C'] = CNAE.fillna(method='ffill')['CNAE ID S'].str.lower() + CNAE['CNAE ID C'].str.replace('.', '').str.replace('-', '')\n",
    "\n",
    "CNAE_cla = CNAE.fillna(method='ffill').loc[CNAE['CNAE ID C'].notnull()].rename({'CNAE label': 'CNAE label C'}, axis = 1)\n",
    "CNAE_gru = CNAE.loc[CNAE['CNAE ID G'].notnull()][['CNAE ID G', 'CNAE label']].rename({'CNAE label': 'CNAE label G'}, axis = 1)\n",
    "CNAE_div = CNAE.loc[CNAE['CNAE ID D'].notnull()][['CNAE ID D', 'CNAE label']].rename({'CNAE label': 'CNAE label D'}, axis = 1)\n",
    "CNAE_sec = CNAE.loc[CNAE['CNAE ID S'].notnull()][['CNAE ID S', 'CNAE label']].rename({'CNAE label': 'CNAE label S'}, axis = 1)\n",
    "\n",
    "#Merge\n",
    "\n",
    "CNAE = CNAE_cla.merge(CNAE_gru).merge(CNAE_div).merge(CNAE_sec)\n",
    "\n",
    "#Fix case\n",
    "for col in CNAE.columns:\n",
    "    if 'label' in col:\n",
    "        CNAE[col] = CNAE[col].str.capitalize()\n",
    "        \n",
    "# Add 'total'\n",
    "CNAE['CNAE ID 0'] = '0'; CNAE['CNAE label 0'] = 'All industries'\n",
    "\n",
    "# Remove diacritics from text\n",
    "for col in [col for col in CNAE.columns if 'label' in col]:\n",
    "    CNAE[col] = [unidecode.unidecode(acc).capitalize() for acc in CNAE[col].str.decode('utf8')]\n",
    "\n",
    "    \n",
    "#Save\n",
    "CNAE.to_csv('data/disagg_struct_refs/formatted/CNAE_full.csv', index = False)\n",
    "\n",
    "#Usage\n",
    "CNAE_agg_ref = CNAE[['CNAE ID C', 'CNAE ID G', 'CNAE ID D', 'CNAE ID S']]\n",
    "CNAE_agg_labels = CNAE[['CNAE ID C', 'CNAE label C', 'CNAE ID G', 'CNAE label G', 'CNAE ID D', 'CNAE label D',\n",
    "                      'CNAE ID S', 'CNAE label S']]"
   ]
  },
  {
   "cell_type": "code",
   "execution_count": null,
   "metadata": {
    "collapsed": true
   },
   "outputs": [],
   "source": []
  }
 ],
 "metadata": {
  "kernelspec": {
   "display_name": "Python 2",
   "language": "python",
   "name": "python2"
  },
  "language_info": {
   "codemirror_mode": {
    "name": "ipython",
    "version": 2
   },
   "file_extension": ".py",
   "mimetype": "text/x-python",
   "name": "python",
   "nbconvert_exporter": "python",
   "pygments_lexer": "ipython2",
   "version": "2.7.13"
  }
 },
 "nbformat": 4,
 "nbformat_minor": 0
}
