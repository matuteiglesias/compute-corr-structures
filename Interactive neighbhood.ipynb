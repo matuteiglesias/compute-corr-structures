{
 "cells": [
  {
   "cell_type": "code",
   "execution_count": 11,
   "metadata": {
    "collapsed": false
   },
   "outputs": [],
   "source": [
    "import networkx as nx\n",
    "# import matplotlib.pyplot as plt\n",
    "# %matplotlib inline\n",
    "\n",
    "import pandas as pd\n",
    "\n",
    "from numpy.random import choice"
   ]
  },
  {
   "cell_type": "code",
   "execution_count": 19,
   "metadata": {
    "collapsed": true
   },
   "outputs": [],
   "source": [
    "def select_nodes_by_kw(G, keyword_list = []):\n",
    "    result_list = []\n",
    "    for kw in keyword_list:\n",
    "        result_list += [label for label in G.nodes() if kw in label]\n",
    "    return result_list\n",
    "\n",
    "def second_neighbors(graph, nodes, second_order = True):\n",
    "    \"\"\"                                                                                                                          \n",
    "    a generator that yeilds second neighbors of node in graph                                                                    \n",
    "    neighbors are not not unique!                                                                                                \n",
    "    \"\"\"\n",
    "    neighbor_list = [nodes]\n",
    "\n",
    "    for i in range(len(nodes)):\n",
    "        neighbor_list += [graph.neighbors(nodes[i])]\n",
    "        \n",
    "        if second_order == True:\n",
    "            for n in graph.neighbors(nodes[i]):\n",
    "                    neighbor_list += [graph.neighbors(n)]\n",
    "\n",
    "\n",
    "    return list(set([item for sublist in neighbor_list for item in sublist]))"
   ]
  },
  {
   "cell_type": "code",
   "execution_count": 291,
   "metadata": {
    "collapsed": true
   },
   "outputs": [],
   "source": [
    "# Columns of the datasets\n",
    "# Geo_cat = ['CHI ID COM']#'BRA ID MIR'\n",
    "# HS_cat = ['HS ID 6']\n",
    "# ind_cat = ['CIIU ID 4']\n",
    "\n",
    "Geo_cat = ['BRA ID MIR']#'BRA ID MIR'\n",
    "HS_cat = ['HS ID 4']\n",
    "ind_cat = ['CNAE ID C', 'CBO ID F']\n",
    "\n",
    "\n",
    "var = 'Total Yearly Wages' # 'output_USD'\n",
    "var_str = '_w'\n",
    "var_lab_str = 'Wages in '# 'Output of ' #'Wages in '"
   ]
  },
  {
   "cell_type": "code",
   "execution_count": 293,
   "metadata": {
    "collapsed": false
   },
   "outputs": [
    {
     "name": "stdout",
     "output_type": "stream",
     "text": [
      "BRA_MIR_0_G_4_4_w\n",
      "BRA_MIR_GG_D_4_4_w\n",
      "BRA_MIR_SGP_S_4_4_w\n"
     ]
    }
   ],
   "source": [
    "#Choose a configuration for further aggregation.\n",
    "\n",
    "\n",
    "ctry_str = Geo_cat[0][:3]\n",
    "geo_str = Geo_cat[0][-3:]\n",
    "\n",
    "confs = [('4', '2', '2'),\n",
    "         ('4', '4', '2')]\n",
    "\n",
    "confs = [('0', 'G', '4', '4'),\n",
    "         ('GG', 'D', '4', '4'),\n",
    "         ('SGP', 'S', '4', '4'),\n",
    "         ('SGP', 'S', '4', '4')]\n",
    "\n",
    "for conf in confs:\n",
    "#     (CIIU_lev, HS_Exp, HS_Imp) = conf\n",
    "    (CBO_lev, CNAE_lev, HS_Exp, HS_Imp) = conf\n",
    "\n",
    "    col_name = ctry_str+'_'+geo_str+'_'+'_'.join([c for c in conf])+var_str\n",
    "    print col_name"
   ]
  },
  {
   "cell_type": "code",
   "execution_count": 296,
   "metadata": {
    "collapsed": true
   },
   "outputs": [],
   "source": [
    "path = 'data/disagg_struct_refs/formatted/'\n",
    "GEO_chi = pd.read_csv(path+'GEO_chi.csv')[['reg_id', 'reg_name', 'prov_id','prov_name', 'area_id', 'area_name','LLMACode', 'comuna_id', 'comuna_nam']]\n",
    "GEO_chi = GEO_chi.rename({'reg_id':'CHI ID REG', 'prov_id':'CHI ID PRO', 'comuna_id':'CHI ID COM',\n",
    "                         'reg_name':'CHI label REG', 'prov_name':'CHI label PRO', 'comuna_nam':'CHI label COM',\n",
    "                         'area_id': 'CHI ID ARE', 'area_name': 'CHI label ARE','LLMACode': 'CHI ID LLMA'},axis = 1)\n",
    "\n",
    "GEO_bra = pd.read_csv('data/disagg_struct_refs/formatted/GEO_bra.csv')\n",
    "\n",
    "GEO_bra['BRA label EST'] = GEO_bra['BRA ID EST']\n",
    "GEO_bra['BRA label MER'] = GEO_bra['BRA ID MER']\n",
    "GEO_bra['BRA label MIR'] = GEO_bra['BRA ID MIR']"
   ]
  },
  {
   "cell_type": "code",
   "execution_count": 303,
   "metadata": {
    "collapsed": false
   },
   "outputs": [
    {
     "name": "stdout",
     "output_type": "stream",
     "text": [
      "('0', 'G', '4', '4')\n"
     ]
    },
    {
     "name": "stderr",
     "output_type": "stream",
     "text": [
      "\n",
      "KeyboardInterrupt\n"
     ]
    }
   ],
   "source": [
    "import seaborn as sns\n",
    "import math\n",
    "\n",
    "from bokeh.io import show, output_file, save\n",
    "from bokeh.plotting import figure\n",
    "from bokeh.models import GraphRenderer, StaticLayoutProvider, Circle, MultiLine, NodesOnly, NodesAndLinkedEdges, EdgesAndLinkedNodes\n",
    "from bokeh.models.graphs import from_networkx\n",
    "from bokeh.models.tools import HoverTool\n",
    "\n",
    "max_d = 10\n",
    "# geo_str = 'COM'\n",
    "geo_str = 'MIR'\n",
    "places_id = 'BRA ID MIR' #'CHI ID COM'\n",
    "places_label = 'BRA label MIR' #'CHI label COM'\n",
    "GEO_ref = GEO_bra #GEO_chi\n",
    "\n",
    "l = len(geo_levels)\n",
    "\n",
    "k = .1\n",
    "\n",
    "for j in range(len(confs)):\n",
    "\n",
    "    conf = confs[j]\n",
    "\n",
    "\n",
    "#     (CIIU_lev, HS_Exp, HS_Imp) = conf\n",
    "    (CBO_lev, CNAE_lev, HS_Exp, HS_Imp) = conf\n",
    "    print conf\n",
    "\n",
    "    col_name = ctry_str+'_'+geo_str+'_'+'_'.join([c for c in conf])+var_str\n",
    "\n",
    "    nodes = pd.read_csv('data/node_refs/'+col_name+'_nodes_meta.csv', index_col = 0)\n",
    "    edges = pd.read_csv('data/node_refs/'+col_name+'_edges.csv', index_col = 0)\n",
    "\n",
    "#         print 'max degree: '+str(max_d)\n",
    "\n",
    "        ### Max degree = max_d\n",
    "    df1 = edges.groupby('label_x').apply(lambda x: x.nlargest(max_d, 'weight_'+geo_str)).reset_index(drop = True)\n",
    "    df2 = edges.groupby('label_y').apply(lambda x: x.nlargest(max_d, 'weight_'+geo_str)).reset_index(drop = True)\n",
    "    edges = df1.merge(df2, on = ['label_x', 'label_y', 'weight_'+geo_str]).reset_index(drop = True)\n",
    "\n",
    "#     Add info of districts with most volume (CHI)\n",
    "    ###\n",
    "    concat_data = pd.read_csv('data/node_refs/'+col_name+'_concat_data.csv', index_col = 0).reset_index()\n",
    "    df = concat_data.sort_values(by = ['node_name', 'value_USD'])\n",
    "\n",
    "    df['rk'] = df.groupby('node_name')['value_USD'].rank(method = 'first', ascending = False)\n",
    "    df['pct'] = df['value_USD'].div(df['node_value_USD']).multiply(100).dropna().round(1)\n",
    "\n",
    "    df = df.loc[df.rk <= 3].merge(GEO_ref[[places_id, places_label]].drop_duplicates())\n",
    "    df['info_'] = df[places_label] + ' ('+df.pct.astype(str)+'%)'\n",
    "    df = df.sort_values(by = 'node_name')\n",
    "    df = pd.DataFrame(df.set_index(['node_name', 'rk'])[['info_']].unstack())\n",
    "    # df\n",
    "    df.columns = df.columns.droplevel(0)\n",
    "\n",
    "    df['info'] = df[1.0] +', '+ df[2.0]+', '+df[3.0]\n",
    "    df = df.reset_index()[['node_name', 'info']]\n",
    "\n",
    "    nodes = nodes.merge(df[['node_name', 'info']])\n",
    "    \n",
    "#     ###\n",
    "\n",
    "    G = nx.from_pandas_dataframe(edges, 'label_x', 'label_y', 'weight_'+geo_str)\n",
    "    \n",
    "    \n",
    "    \n",
    "    ### Subgraph - neighborhood\n",
    "    # Random choice of some nodes...\n",
    "    nodes_choice = choice(G.nodes(), 5)\n",
    "    \n",
    "    for node in nodes_choice:\n",
    "\n",
    "        ix = nodes.loc[nodes['node_name'] == node].index.values[0]\n",
    "        \n",
    "        G_s = G.subgraph(second_neighbors(G, [node], second_order=True))  \n",
    "        nodes_s = nodes.set_index('node_name').loc[G_s.nodes()].reset_index()\n",
    "        edges_s = edges.loc[(edges.label_x.isin(G_s.nodes())) & (edges.label_y.isin(G_s.nodes()))]\n",
    "\n",
    "\n",
    "        # nx.write_gexf(G,'networks/'+col_name+'.gexf')\n",
    "\n",
    "    #         print 'nodes: '+str(len(G.nodes()))\n",
    "    #         print 'edges: '+str(len(G.edges()))\n",
    "\n",
    "        # Subset of nodes\n",
    "#         nodes_s = nodes.set_index('node_name').loc[G_s.nodes()].reset_index()\n",
    "\n",
    "        #Perform Graph Drawing\n",
    "    #     pos = nx.spring_layout(G, k=k)\n",
    "    #     nx.draw(G, pos, ax = ax, node_size = 5*nodes.node_size.values, alpha=.6, node_color= list(nodes.color.values), edgelist = [])\n",
    "\n",
    "        #     Bokeh drawing\n",
    "        ####\n",
    "\n",
    "        N = len(nodes_s)\n",
    "        node_indices = list(range(N))\n",
    "        nodes_s['node_name_'] = [wrap_by_word(s, 5) for s in nodes_s['node_name'].values]\n",
    "\n",
    "        plot = figure(title=col_name, x_range=(-1.1,1.1), y_range=(-1.1,1.1))\n",
    "\n",
    "        #####\n",
    "\n",
    "        graph = from_networkx(G_s, nx.spring_layout, center=(0,0), k = k)\n",
    "\n",
    "        graph.node_renderer.data_source.add(list(nodes_s['color'].values), 'color')\n",
    "        graph.node_renderer.data_source.add(list(nodes_s['node_name_'].values), 'node_name_')\n",
    "        graph.node_renderer.data_source.add(list(nodes_s['node_value_USD'].values), 'node_value_USD')\n",
    "        graph.node_renderer.data_source.add(list(nodes_s['info'].values), 'info')\n",
    "        graph.node_renderer.data_source.add(list(.5*nodes_s['node_size'].values), 'node_size')\n",
    "\n",
    "        graph.node_renderer.glyph = Circle(size='node_size', fill_color='color')\n",
    "        graph.node_renderer.selection_glyph = Circle(size=15, fill_color='#808000')\n",
    "        graph.node_renderer.hover_glyph = Circle(size=15, fill_color='#808000')\n",
    "\n",
    "        graph.edge_renderer.glyph = MultiLine(line_color=\"#CCCCCC\", line_alpha=0.5, line_width=1)\n",
    "        graph.edge_renderer.selection_glyph = MultiLine(line_color='#808000', line_width=5)\n",
    "        graph.edge_renderer.hover_glyph = MultiLine(line_color='#808000', line_width=5)\n",
    "        graph.selection_policy = NodesAndLinkedEdges()\n",
    "        graph.selection_policy = EdgesAndLinkedNodes()\n",
    "\n",
    "        plot.renderers.append(graph)\n",
    "\n",
    "        hover = HoverTool(tooltips=dict(main_place=\"@info\", value=\"@node_value_USD\", activity=\"@node_name_\"))\n",
    "        # hover = HoverTool(tooltips = [('Info', '@node_name'),('(x,y)', '($x, $y)')])\n",
    "\n",
    "        plot.add_tools(hover)\n",
    "\n",
    "        output_file('./Figures/6_neighbhoods/'+col_name+'_'+str(ix).zfill(3)+'.html')\n",
    "        save(plot)"
   ]
  },
  {
   "cell_type": "markdown",
   "metadata": {},
   "source": [
    "### Trying to add some info to the nodes..."
   ]
  },
  {
   "cell_type": "code",
   "execution_count": 235,
   "metadata": {
    "collapsed": false
   },
   "outputs": [
    {
     "name": "stdout",
     "output_type": "stream",
     "text": [
      "There is a dog \n",
      " and fox fighting in \n",
      " the park and there \n",
      " is an apple falling \n",
      " down. \n",
      " \n"
     ]
    }
   ],
   "source": [
    "def wrap_by_word(s, n):\n",
    "    '''returns a string where \\\\n is inserted between every n words'''\n",
    "    a = s.split()\n",
    "    ret = ''\n",
    "    for i in range(0, len(a), n):\n",
    "        ret += ' '.join(a[i:i+n]) + ' \\n '\n",
    "\n",
    "    return ret\n"
   ]
  },
  {
   "cell_type": "code",
   "execution_count": 51,
   "metadata": {
    "collapsed": true
   },
   "outputs": [
    {
     "ename": "NetworkXError",
     "evalue": "The node O is not in the graph.",
     "output_type": "error",
     "traceback": [
      "\u001b[1;31m---------------------------------------------------------------------------\u001b[0m",
      "\u001b[1;31mNetworkXError\u001b[0m                             Traceback (most recent call last)",
      "\u001b[1;32m<ipython-input-51-c3b5afa06f29>\u001b[0m in \u001b[0;36m<module>\u001b[1;34m()\u001b[0m\n\u001b[0;32m      1\u001b[0m \u001b[1;31m# node\u001b[0m\u001b[1;33m\u001b[0m\u001b[1;33m\u001b[0m\u001b[0m\n\u001b[1;32m----> 2\u001b[1;33m \u001b[0msecond_neighbors\u001b[0m\u001b[1;33m(\u001b[0m\u001b[0mG\u001b[0m\u001b[1;33m,\u001b[0m \u001b[0mnode\u001b[0m\u001b[1;33m,\u001b[0m \u001b[0msecond_order\u001b[0m\u001b[1;33m=\u001b[0m\u001b[0mTrue\u001b[0m\u001b[1;33m)\u001b[0m\u001b[1;33m\u001b[0m\u001b[0m\n\u001b[0m\u001b[0;32m      3\u001b[0m \u001b[1;33m\u001b[0m\u001b[0m\n\u001b[0;32m      4\u001b[0m \u001b[1;32mdef\u001b[0m \u001b[0msecond_neighbors\u001b[0m\u001b[1;33m(\u001b[0m\u001b[0mgraph\u001b[0m\u001b[1;33m,\u001b[0m \u001b[0mnodes\u001b[0m\u001b[1;33m,\u001b[0m \u001b[0msecond_order\u001b[0m \u001b[1;33m=\u001b[0m \u001b[0mTrue\u001b[0m\u001b[1;33m)\u001b[0m\u001b[1;33m:\u001b[0m\u001b[1;33m\u001b[0m\u001b[0m\n\u001b[0;32m      5\u001b[0m     \"\"\"                                                                                                                          \n",
      "\u001b[1;32m<ipython-input-19-7babf07e2c12>\u001b[0m in \u001b[0;36msecond_neighbors\u001b[1;34m(graph, nodes, second_order)\u001b[0m\n\u001b[0;32m     13\u001b[0m \u001b[1;33m\u001b[0m\u001b[0m\n\u001b[0;32m     14\u001b[0m     \u001b[1;32mfor\u001b[0m \u001b[0mi\u001b[0m \u001b[1;32min\u001b[0m \u001b[0mrange\u001b[0m\u001b[1;33m(\u001b[0m\u001b[0mlen\u001b[0m\u001b[1;33m(\u001b[0m\u001b[0mnodes\u001b[0m\u001b[1;33m)\u001b[0m\u001b[1;33m)\u001b[0m\u001b[1;33m:\u001b[0m\u001b[1;33m\u001b[0m\u001b[0m\n\u001b[1;32m---> 15\u001b[1;33m         \u001b[0mneighbor_list\u001b[0m \u001b[1;33m+=\u001b[0m \u001b[1;33m[\u001b[0m\u001b[0mgraph\u001b[0m\u001b[1;33m.\u001b[0m\u001b[0mneighbors\u001b[0m\u001b[1;33m(\u001b[0m\u001b[0mnodes\u001b[0m\u001b[1;33m[\u001b[0m\u001b[0mi\u001b[0m\u001b[1;33m]\u001b[0m\u001b[1;33m)\u001b[0m\u001b[1;33m]\u001b[0m\u001b[1;33m\u001b[0m\u001b[0m\n\u001b[0m\u001b[0;32m     16\u001b[0m \u001b[1;33m\u001b[0m\u001b[0m\n\u001b[0;32m     17\u001b[0m         \u001b[1;32mif\u001b[0m \u001b[0msecond_order\u001b[0m \u001b[1;33m==\u001b[0m \u001b[0mTrue\u001b[0m\u001b[1;33m:\u001b[0m\u001b[1;33m\u001b[0m\u001b[0m\n",
      "\u001b[1;32m/home/miglesia/anaconda2/lib/python2.7/site-packages/networkx/classes/graph.pyc\u001b[0m in \u001b[0;36mneighbors\u001b[1;34m(self, n)\u001b[0m\n\u001b[0;32m   1059\u001b[0m             \u001b[1;32mreturn\u001b[0m \u001b[0mlist\u001b[0m\u001b[1;33m(\u001b[0m\u001b[0mself\u001b[0m\u001b[1;33m.\u001b[0m\u001b[0madj\u001b[0m\u001b[1;33m[\u001b[0m\u001b[0mn\u001b[0m\u001b[1;33m]\u001b[0m\u001b[1;33m)\u001b[0m\u001b[1;33m\u001b[0m\u001b[0m\n\u001b[0;32m   1060\u001b[0m         \u001b[1;32mexcept\u001b[0m \u001b[0mKeyError\u001b[0m\u001b[1;33m:\u001b[0m\u001b[1;33m\u001b[0m\u001b[0m\n\u001b[1;32m-> 1061\u001b[1;33m             \u001b[1;32mraise\u001b[0m \u001b[0mNetworkXError\u001b[0m\u001b[1;33m(\u001b[0m\u001b[1;34m\"The node %s is not in the graph.\"\u001b[0m \u001b[1;33m%\u001b[0m \u001b[1;33m(\u001b[0m\u001b[0mn\u001b[0m\u001b[1;33m,\u001b[0m\u001b[1;33m)\u001b[0m\u001b[1;33m)\u001b[0m\u001b[1;33m\u001b[0m\u001b[0m\n\u001b[0m\u001b[0;32m   1062\u001b[0m \u001b[1;33m\u001b[0m\u001b[0m\n\u001b[0;32m   1063\u001b[0m     \u001b[1;32mdef\u001b[0m \u001b[0mneighbors_iter\u001b[0m\u001b[1;33m(\u001b[0m\u001b[0mself\u001b[0m\u001b[1;33m,\u001b[0m \u001b[0mn\u001b[0m\u001b[1;33m)\u001b[0m\u001b[1;33m:\u001b[0m\u001b[1;33m\u001b[0m\u001b[0m\n",
      "\u001b[1;31mNetworkXError\u001b[0m: The node O is not in the graph."
     ]
    }
   ],
   "source": [
    "# node\n",
    "second_neighbors(G, node, second_order=True)\n",
    "\n",
    "def second_neighbors(graph, nodes, second_order = True):\n",
    "    \"\"\"                                                                                                                          \n",
    "    a generator that yeilds second neighbors of node in graph                                                                    \n",
    "    neighbors are not not unique!                                                                                                \n",
    "    \"\"\"\n",
    "    neighbor_list = [nodes]\n",
    "\n",
    "    for i in range(len(nodes)):\n",
    "        neighbor_list += [graph.neighbors(nodes[i])]\n",
    "        \n",
    "        if second_order == True:\n",
    "            for n in graph.neighbors(nodes[i]):\n",
    "                    neighbor_list += [graph.neighbors(n)]\n",
    "\n",
    "\n",
    "    return list(set([item for sublist in neighbor_list for item in sublist]))"
   ]
  },
  {
   "cell_type": "code",
   "execution_count": 20,
   "metadata": {
    "collapsed": false
   },
   "outputs": [
    {
     "name": "stdout",
     "output_type": "stream",
     "text": [
      "CHI_COM_4_2_2_o\n",
      "223\n"
     ]
    },
    {
     "ename": "NameError",
     "evalue": "name 'plt' is not defined",
     "output_type": "error",
     "traceback": [
      "\u001b[1;31m---------------------------------------------------------------------------\u001b[0m",
      "\u001b[1;31mNameError\u001b[0m                                 Traceback (most recent call last)",
      "\u001b[1;32m<ipython-input-20-a90d940ef094>\u001b[0m in \u001b[0;36m<module>\u001b[1;34m()\u001b[0m\n\u001b[0;32m     45\u001b[0m     \u001b[1;31m#     Networkx drawing\u001b[0m\u001b[1;33m\u001b[0m\u001b[1;33m\u001b[0m\u001b[0m\n\u001b[0;32m     46\u001b[0m         \u001b[1;31m#Perform Graph Drawing\u001b[0m\u001b[1;33m\u001b[0m\u001b[1;33m\u001b[0m\u001b[0m\n\u001b[1;32m---> 47\u001b[1;33m         \u001b[0mplt\u001b[0m\u001b[1;33m.\u001b[0m\u001b[0mfigure\u001b[0m\u001b[1;33m(\u001b[0m\u001b[0mfigsize\u001b[0m\u001b[1;33m=\u001b[0m\u001b[1;33m(\u001b[0m\u001b[1;36m8\u001b[0m\u001b[1;33m,\u001b[0m \u001b[1;36m8\u001b[0m\u001b[1;33m)\u001b[0m\u001b[1;33m)\u001b[0m\u001b[1;33m\u001b[0m\u001b[0m\n\u001b[0m\u001b[0;32m     48\u001b[0m         \u001b[0mpos\u001b[0m \u001b[1;33m=\u001b[0m \u001b[0mnx\u001b[0m\u001b[1;33m.\u001b[0m\u001b[0mspring_layout\u001b[0m\u001b[1;33m(\u001b[0m\u001b[0mG\u001b[0m\u001b[1;33m,\u001b[0m \u001b[0mk\u001b[0m\u001b[1;33m=\u001b[0m\u001b[1;36m0.15\u001b[0m\u001b[1;33m)\u001b[0m\u001b[1;33m\u001b[0m\u001b[0m\n\u001b[0;32m     49\u001b[0m \u001b[1;33m\u001b[0m\u001b[0m\n",
      "\u001b[1;31mNameError\u001b[0m: name 'plt' is not defined"
     ]
    }
   ],
   "source": [
    "\n",
    "\n",
    "k = .05\n",
    "max_d = 10\n",
    "\n",
    "for conf in confs:\n",
    "    (CIIU_lev, HS_Exp, HS_Imp) = conf\n",
    "    col_name = ctry_str+'_'+geo_str+'_'+'_'.join([c for c in conf])+var_str\n",
    "    print col_name\n",
    "    \n",
    "    for i in range(10):\n",
    "\n",
    "\n",
    "        nodes = pd.read_csv('data/node_refs/'+col_name+'_nodes_meta.csv', index_col = 0)\n",
    "        print len(nodes)\n",
    "        edges = pd.read_csv('data/node_refs/'+col_name+'_edges.csv', index_col = 0)\n",
    "\n",
    "        ### Max degree = max_d\n",
    "        df1 = edges.groupby('label_x').apply(lambda x: x.nlargest(max_d, 'weight_COM')).reset_index(drop = True)\n",
    "        df2 = edges.groupby('label_y').apply(lambda x: x.nlargest(max_d, 'weight_COM')).reset_index(drop = True)\n",
    "        edges = df1.merge(df2, on = ['label_x', 'label_y', 'weight_COM']).reset_index(drop = True)\n",
    "\n",
    "        G = nx.from_pandas_dataframe(edges, 'label_x', 'label_y', 'weight_'+geo_str)\n",
    "\n",
    "\n",
    "        ### Subgraph - neighborhood\n",
    "    #         nodes_sel = select_nodes_by_kw(G, ['Wine','grape', 'Grape','bebidas fermentadas'])\n",
    "    #     nodes_sel = [ 'Output ofPesca maritima ']\n",
    "    #     nodes_sel = select_nodes_by_kw(G, ['Silvicultura'])\n",
    "        nodes_sel = choice(G.nodes(), 1)\n",
    "\n",
    "        G = G.subgraph(second_neighbors(G, nodes_sel, second_order=True))  \n",
    "        nodes = nodes.set_index('node_name').loc[G.nodes()].reset_index()\n",
    "        edges = edges.loc[(edges.label_x.isin(G.nodes())) & (edges.label_y.isin(G.nodes()))]\n",
    "\n",
    "        # nx.write_gexf(G,'networks/'+col_name+'.gexf')\n",
    "\n",
    "    #     Networkx drawing\n",
    "        #Perform Graph Drawing\n",
    "        plt.figure(figsize=(8, 8))\n",
    "        pos = nx.spring_layout(G, k=0.15)\n",
    "\n",
    "        nx.draw(G, pos, node_size = 10 * nodes.node_size.values, alpha=.6, node_color= list(nodes.color.values), edgelist = [])\n",
    "        nx.draw_networkx_edges(G, pos, edge_color='.7', alpha=.3)\n",
    "        #     plt.savefig('../DataViva/Figures/'+'_'+kw+'_'+name)\n",
    "        plt.show()\n",
    "\n",
    "        ####\n",
    "\n",
    "    #     Bokeh drawing\n",
    "        ####\n",
    "\n",
    "        N = len(nodes)\n",
    "        node_indices = list(range(N))\n",
    "        # sizes = np.linspace(10, 20, N)\n",
    "        # node_sizes = np.sqrt(nodes['node_size'].values)\n",
    "\n",
    "        plot = figure(title=\"Networkx Integration Demonstration\", x_range=(-1.1,1.1), y_range=(-1.1,1.1))\n",
    "\n",
    "        #####\n",
    "\n",
    "        graph = from_networkx(G, nx.spring_layout, center=(0,0), k = k)\n",
    "\n",
    "        graph.node_renderer.data_source.add(list(nodes['color'].values), 'color')\n",
    "        graph.node_renderer.data_source.add(list(nodes['node_name'].values), 'node_name')\n",
    "        graph.node_renderer.data_source.add(list(2*nodes['node_size'].values), 'node_size')\n",
    "\n",
    "        graph.node_renderer.glyph = Circle(size='node_size', fill_color='color')\n",
    "        graph.node_renderer.selection_glyph = Circle(size=15, fill_color='#808000')\n",
    "        graph.node_renderer.hover_glyph = Circle(size=15, fill_color='#808000')\n",
    "\n",
    "        graph.edge_renderer.glyph = MultiLine(line_color=\"#CCCCCC\", line_alpha=0.2, line_width=1)\n",
    "        graph.edge_renderer.selection_glyph = MultiLine(line_color='#808000', line_width=5)\n",
    "        graph.edge_renderer.hover_glyph = MultiLine(line_color='#808000', line_width=5)\n",
    "        graph.selection_policy = NodesAndLinkedEdges()\n",
    "\n",
    "        plot.renderers.append(graph)\n",
    "\n",
    "        hover = HoverTool(plot=plot, tooltips=dict(act=\"@node_name\", value=\"@node_size\"))\n",
    "        # hover = HoverTool(tooltips = [('Info', '@node_name'),('(x,y)', '($x, $y)')])\n",
    "\n",
    "        plot.add_tools(hover)\n",
    "\n",
    "#         output_file(\"networkx_graph.html\")\n",
    "        # output_notebook()\n",
    "        show(plot)\n",
    "\n",
    "        nodes = nodes.sort_values(by = 'node_size', ascending = False)\n",
    "        sns.barplot(x='node_size',y='node_name',palette=nodes['color'], data=nodes, edgecolor = 'None')\n"
   ]
  },
  {
   "cell_type": "code",
   "execution_count": 15,
   "metadata": {
    "collapsed": false
   },
   "outputs": [
    {
     "data": {
      "text/plain": [
       "[('4', '2', '2'), ('4', '4', '2')]"
      ]
     },
     "execution_count": 15,
     "metadata": {},
     "output_type": "execute_result"
    }
   ],
   "source": [
    "conf"
   ]
  },
  {
   "cell_type": "code",
   "execution_count": 18,
   "metadata": {
    "collapsed": false
   },
   "outputs": [],
   "source": []
  },
  {
   "cell_type": "code",
   "execution_count": null,
   "metadata": {
    "collapsed": true
   },
   "outputs": [],
   "source": []
  }
 ],
 "metadata": {
  "kernelspec": {
   "display_name": "Python 2",
   "language": "python",
   "name": "python2"
  },
  "language_info": {
   "codemirror_mode": {
    "name": "ipython",
    "version": 2
   },
   "file_extension": ".py",
   "mimetype": "text/x-python",
   "name": "python",
   "nbconvert_exporter": "python",
   "pygments_lexer": "ipython2",
   "version": "2.7.13"
  }
 },
 "nbformat": 4,
 "nbformat_minor": 2
}
