{
 "cells": [
  {
   "cell_type": "code",
   "execution_count": 2,
   "metadata": {
    "collapsed": true
   },
   "outputs": [],
   "source": [
    "import pandas as pd"
   ]
  },
  {
   "cell_type": "code",
   "execution_count": 22,
   "metadata": {
    "collapsed": true
   },
   "outputs": [],
   "source": [
    "# Load info\n",
    "path = 'data/disagg_struct_refs/formatted/'\n",
    "\n",
    "CIIU = pd.read_csv(path+'CIIU_full.csv')\n",
    "CBO = pd.read_csv(path+'CBO_full.csv').astype(str)\n",
    "CNAE = pd.read_csv(path+'CNAE_full.csv').astype(str)\n",
    "HS = pd.read_csv(path+'hs_full.csv').astype(str)\n"
   ]
  },
  {
   "cell_type": "code",
   "execution_count": 9,
   "metadata": {
    "collapsed": false
   },
   "outputs": [
    {
     "name": "stdout",
     "output_type": "stream",
     "text": [
      "\\begin{tabular}{lr}\n",
      "\\toprule\n",
      "{} &    0 \\\\\n",
      "\\midrule\n",
      "CIIU ID 4    &  495 \\\\\n",
      "CIIU label 4 &  495 \\\\\n",
      "CIIU ID 2    &   88 \\\\\n",
      "CIIU ID 1    &   21 \\\\\n",
      "CIIU ID 0    &    1 \\\\\n",
      "\\bottomrule\n",
      "\\end{tabular}\n",
      "\n",
      "\\begin{tabular}{lr}\n",
      "\\toprule\n",
      "{} &     0 \\\\\n",
      "\\midrule\n",
      "CBO ID O      &  2626 \\\\\n",
      "CBO label O   &  2626 \\\\\n",
      "CBO ID F      &   619 \\\\\n",
      "CBO ID SG     &   193 \\\\\n",
      "CBO ID SGP    &    48 \\\\\n",
      "CBO ID GG     &    10 \\\\\n",
      "CBO label F   &   619 \\\\\n",
      "CBO label SG  &   193 \\\\\n",
      "CBO label SGP &    48 \\\\\n",
      "CBO label GG  &     9 \\\\\n",
      "CBO ID 0      &     1 \\\\\n",
      "CBO label 0   &     1 \\\\\n",
      "\\bottomrule\n",
      "\\end{tabular}\n",
      "\n",
      "\\begin{tabular}{lr}\n",
      "\\toprule\n",
      "{} &    0 \\\\\n",
      "\\midrule\n",
      "CNAE ID S    &   21 \\\\\n",
      "CNAE ID D    &   87 \\\\\n",
      "CNAE ID G    &  285 \\\\\n",
      "CNAE ID C    &  673 \\\\\n",
      "CNAE label C &  673 \\\\\n",
      "CNAE label G &  285 \\\\\n",
      "CNAE label D &   87 \\\\\n",
      "CNAE label S &   21 \\\\\n",
      "CNAE ID 0    &    1 \\\\\n",
      "CNAE label 0 &    1 \\\\\n",
      "\\bottomrule\n",
      "\\end{tabular}\n",
      "\n",
      "\\begin{tabular}{lr}\n",
      "\\toprule\n",
      "{} &     0 \\\\\n",
      "\\midrule\n",
      "HS ID 1    &    22 \\\\\n",
      "HS label 1 &    22 \\\\\n",
      "HS ID 2    &    97 \\\\\n",
      "HS label 2 &    97 \\\\\n",
      "HS ID 4    &  1225 \\\\\n",
      "HS label 4 &  1225 \\\\\n",
      "HS ID 6    &  5206 \\\\\n",
      "pcode6\\_f   &  5206 \\\\\n",
      "\\bottomrule\n",
      "\\end{tabular}\n",
      "\n"
     ]
    }
   ],
   "source": [
    "print pd.DataFrame(CIIU.nunique()).to_latex()\n",
    "print pd.DataFrame(CBO.nunique()).to_latex()\n",
    "print pd.DataFrame(CNAE.nunique()).to_latex()\n",
    "print pd.DataFrame(HS.nunique()).to_latex()\n",
    "\n"
   ]
  },
  {
   "cell_type": "code",
   "execution_count": null,
   "metadata": {
    "collapsed": true
   },
   "outputs": [],
   "source": [
    "wages_bra = pd.read_csv('data/econ_data/wages_bra.csv').dropna(subset = ['Total Jobs', 'Total Yearly Wages'])\n"
   ]
  },
  {
   "cell_type": "code",
   "execution_count": 3,
   "metadata": {
    "collapsed": false
   },
   "outputs": [
    {
     "name": "stderr",
     "output_type": "stream",
     "text": [
      "/home/miglesia/anaconda2/lib/python2.7/site-packages/IPython/core/interactiveshell.py:2723: DtypeWarning: Columns (2) have mixed types. Specify dtype option on import or set low_memory=False.\n",
      "  interactivity=interactivity, compiler=compiler, result=result)\n"
     ]
    }
   ],
   "source": [
    "trade_bra = pd.read_csv('data/econ_data/trade_bra.csv', dtype = {'HS ID 4': str}).dropna(subset = ['Exports', 'Imports'])\n",
    "# wages_bra = pd.read_csv('data/econ_data/wages_bra.csv').dropna(subset = ['Total Jobs', 'Total Yearly Wages'])\n",
    "trade_chi = pd.read_csv('data/econ_data/trade_chi.csv', dtype = {'HS ID 4': str})\n",
    "prod_chi = pd.read_csv('data/econ_data/wages_output_chi.csv')#.dropna(subset = ['Total Jobs', 'Total Yearly Wages'])\n",
    "\n",
    "data_bugs = list(trade_chi.loc[trade_chi['HS ID 6'].str[-1] == ','].index)\n",
    "trade_chi = trade_chi.drop(data_bugs)\n"
   ]
  },
  {
   "cell_type": "code",
   "execution_count": 5,
   "metadata": {
    "collapsed": false
   },
   "outputs": [
    {
     "name": "stdout",
     "output_type": "stream",
     "text": [
      "Year              4\n",
      "BRA ID MIR      338\n",
      "HS ID 4        1153\n",
      "Exports       53844\n",
      "Imports       72617\n",
      "dtype: int64\n",
      "Year               4\n",
      "CHI ID COM       338\n",
      "HS ID 6         9722\n",
      "Exports        68400\n",
      "Imports       349167\n",
      "dtype: int64\n",
      "Year                       4\n",
      "CHI ID COM               345\n",
      "CIIU ID 4                342\n",
      "output_USD            158702\n",
      "intermediates_USD     152438\n",
      "Total Yearly Wages    133909\n",
      "dtype: int64\n"
     ]
    }
   ],
   "source": [
    "print trade_bra.nunique()\n",
    "print trade_chi.nunique()\n",
    "# print wages_bra.nunique()\n",
    "print prod_chi.nunique()"
   ]
  },
  {
   "cell_type": "code",
   "execution_count": 15,
   "metadata": {
    "collapsed": false
   },
   "outputs": [],
   "source": [
    "x = trade_chi[trade_chi['HS ID 6'].str.zfill(6).isnull()]\n",
    "\n",
    "y = trade_chi[trade_chi['HS ID 6'].str.zfill(6).notnull()]"
   ]
  },
  {
   "cell_type": "code",
   "execution_count": 17,
   "metadata": {
    "collapsed": false
   },
   "outputs": [
    {
     "data": {
      "text/plain": [
       "Year               4\n",
       "CHI ID COM       335\n",
       "HS ID 6         5136\n",
       "Exports        68400\n",
       "Imports       302754\n",
       "dtype: int64"
      ]
     },
     "execution_count": 17,
     "metadata": {},
     "output_type": "execute_result"
    }
   ],
   "source": [
    "x.nunique()"
   ]
  },
  {
   "cell_type": "code",
   "execution_count": 18,
   "metadata": {
    "collapsed": false
   },
   "outputs": [
    {
     "data": {
      "text/plain": [
       "Year              1\n",
       "CHI ID COM      186\n",
       "HS ID 6        4586\n",
       "Exports           1\n",
       "Imports       53652\n",
       "dtype: int64"
      ]
     },
     "execution_count": 18,
     "metadata": {},
     "output_type": "execute_result"
    }
   ],
   "source": [
    "y.nunique()"
   ]
  },
  {
   "cell_type": "code",
   "execution_count": 27,
   "metadata": {
    "collapsed": false
   },
   "outputs": [
    {
     "data": {
      "text/plain": [
       "HS ID 6       4404\n",
       "Year             1\n",
       "CHI ID COM      94\n",
       "Exports          1\n",
       "Imports       4392\n",
       "HS ID 1         21\n",
       "HS label 1      21\n",
       "HS ID 2         96\n",
       "HS label 2      96\n",
       "HS ID 4       1158\n",
       "HS label 4    1158\n",
       "pcode6_f      4404\n",
       "dtype: int64"
      ]
     },
     "execution_count": 27,
     "metadata": {},
     "output_type": "execute_result"
    }
   ],
   "source": [
    "trade_chi.groupby('HS ID 6').first().reset_index().merge(HS).nunique()"
   ]
  },
  {
   "cell_type": "code",
   "execution_count": 23,
   "metadata": {
    "collapsed": false
   },
   "outputs": [
    {
     "data": {
      "text/html": [
       "<div>\n",
       "<style scoped>\n",
       "    .dataframe tbody tr th:only-of-type {\n",
       "        vertical-align: middle;\n",
       "    }\n",
       "\n",
       "    .dataframe tbody tr th {\n",
       "        vertical-align: top;\n",
       "    }\n",
       "\n",
       "    .dataframe thead th {\n",
       "        text-align: right;\n",
       "    }\n",
       "</style>\n",
       "<table border=\"1\" class=\"dataframe\">\n",
       "  <thead>\n",
       "    <tr style=\"text-align: right;\">\n",
       "      <th></th>\n",
       "      <th>Year</th>\n",
       "      <th>BRA ID MIR</th>\n",
       "      <th>HS ID 4</th>\n",
       "      <th>Exports</th>\n",
       "      <th>Imports</th>\n",
       "    </tr>\n",
       "  </thead>\n",
       "  <tbody>\n",
       "    <tr>\n",
       "      <th>233</th>\n",
       "      <td>2011</td>\n",
       "      <td>3mt0002</td>\n",
       "      <td>0101</td>\n",
       "      <td>29500.0</td>\n",
       "      <td>138200.0</td>\n",
       "    </tr>\n",
       "    <tr>\n",
       "      <th>276</th>\n",
       "      <td>2011</td>\n",
       "      <td>4mg0300</td>\n",
       "      <td>0101</td>\n",
       "      <td>14713.0</td>\n",
       "      <td>303809.0</td>\n",
       "    </tr>\n",
       "    <tr>\n",
       "      <th>311</th>\n",
       "      <td>2011</td>\n",
       "      <td>4mg0805</td>\n",
       "      <td>0101</td>\n",
       "      <td>237910.0</td>\n",
       "      <td>5000.0</td>\n",
       "    </tr>\n",
       "    <tr>\n",
       "      <th>333</th>\n",
       "      <td>2011</td>\n",
       "      <td>4rj0202</td>\n",
       "      <td>0101</td>\n",
       "      <td>157463.0</td>\n",
       "      <td>889358.0</td>\n",
       "    </tr>\n",
       "    <tr>\n",
       "      <th>356</th>\n",
       "      <td>2011</td>\n",
       "      <td>4sp0401</td>\n",
       "      <td>0101</td>\n",
       "      <td>3000.0</td>\n",
       "      <td>418324.0</td>\n",
       "    </tr>\n",
       "  </tbody>\n",
       "</table>\n",
       "</div>"
      ],
      "text/plain": [
       "     Year BRA ID MIR HS ID 4   Exports   Imports\n",
       "233  2011    3mt0002    0101   29500.0  138200.0\n",
       "276  2011    4mg0300    0101   14713.0  303809.0\n",
       "311  2011    4mg0805    0101  237910.0    5000.0\n",
       "333  2011    4rj0202    0101  157463.0  889358.0\n",
       "356  2011    4sp0401    0101    3000.0  418324.0"
      ]
     },
     "execution_count": 23,
     "metadata": {},
     "output_type": "execute_result"
    }
   ],
   "source": [
    "trade_bra.head()"
   ]
  },
  {
   "cell_type": "code",
   "execution_count": 30,
   "metadata": {
    "collapsed": false
   },
   "outputs": [
    {
     "data": {
      "text/plain": [
       "CIIU ID 4             298\n",
       "Year                    4\n",
       "CHI ID COM             82\n",
       "output_USD            232\n",
       "intermediates_USD     214\n",
       "Total Yearly Wages    182\n",
       "CIIU label 4          298\n",
       "CIIU ID 2              80\n",
       "CIIU ID 1              21\n",
       "CIIU ID 0               1\n",
       "dtype: int64"
      ]
     },
     "execution_count": 30,
     "metadata": {},
     "output_type": "execute_result"
    }
   ],
   "source": [
    "\n",
    "prod_chi.groupby('CIIU ID 4').first().reset_index().merge(CIIU).nunique()"
   ]
  },
  {
   "cell_type": "code",
   "execution_count": null,
   "metadata": {
    "collapsed": true
   },
   "outputs": [],
   "source": [
    "# pd.read_csv('data/econ_data/wages_bra.csv')\n"
   ]
  }
 ],
 "metadata": {
  "kernelspec": {
   "display_name": "Python 2",
   "language": "python",
   "name": "python2"
  },
  "language_info": {
   "codemirror_mode": {
    "name": "ipython",
    "version": 2
   },
   "file_extension": ".py",
   "mimetype": "text/x-python",
   "name": "python",
   "nbconvert_exporter": "python",
   "pygments_lexer": "ipython2",
   "version": "2.7.13"
  }
 },
 "nbformat": 4,
 "nbformat_minor": 2
}
